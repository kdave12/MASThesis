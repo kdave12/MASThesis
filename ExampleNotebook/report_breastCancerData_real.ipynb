{
 "cells": [
  {
   "cell_type": "markdown",
   "id": "5789a9fb",
   "metadata": {},
   "source": [
    "# [INSERT DATASET NAME] Report\n",
    "[INSERT DATASET DESCRIPTION]"
   ]
  },
  {
   "cell_type": "code",
   "execution_count": null,
   "id": "802b48cf",
   "metadata": {},
   "outputs": [],
   "source": [
    "import os\n",
    "from typing import Any, Callable, Dict, List, Optional, Tuple, Union\n",
    "\n",
    "import pandas as pd\n",
    "import plotly.io as pio\n",
    "import plotly.offline as py\n",
    "from edvart.report_sections.bivariate_analysis import show_bivariate_analysis\n",
    "from edvart.report_sections.dataset_overview import show_overview\n",
    "from edvart.report_sections.multivariate_analysis import show_multivariate_analysis\n",
    "from edvart.report_sections.univariate_analysis import show_univariate_analysis\n",
    "\n",
    "\n",
    "pio.renderers.default = 'plotly_mimetype+notebook'\n",
    "py.init_notebook_mode()"
   ]
  },
  {
   "cell_type": "markdown",
   "id": "f9cd7fad",
   "metadata": {},
   "source": [
    "## Load Data\n",
    "---"
   ]
  },
  {
   "cell_type": "code",
   "execution_count": null,
   "id": "0574e0d6",
   "metadata": {},
   "outputs": [],
   "source": [
    "df = ..."
   ]
  },
  {
   "cell_type": "markdown",
   "id": "5a429e90",
   "metadata": {},
   "source": [
    "# Table of Contents\n",
    "---"
   ]
  },
  {
   "cell_type": "markdown",
   "id": "7d19037b",
   "metadata": {},
   "source": [
    " * [Overview](#9c3efd14-d5a0-4cea-aeaa-0df429fd80e2)\n",
    "\n",
    " * [Univariate Analysis](#d4ce7392-5427-4ca1-a387-65b550286fd5)\n",
    "\n",
    " * [Bivariate analysis](#be20bf74-0728-4527-842d-774534be6652)\n",
    "\n",
    " * [Multivariate analysis](#2b893847-c50d-433b-b5ba-8c45b36761c8)\n"
   ]
  },
  {
   "cell_type": "markdown",
   "id": "b3477fbf",
   "metadata": {},
   "source": [
    "# Overview<a id='9c3efd14-d5a0-4cea-aeaa-0df429fd80e2'>\n",
    "---"
   ]
  },
  {
   "cell_type": "code",
   "execution_count": null,
   "id": "195b70c1",
   "metadata": {},
   "outputs": [],
   "source": [
    "show_overview(df=df)"
   ]
  },
  {
   "cell_type": "markdown",
   "id": "2bb77eee",
   "metadata": {},
   "source": [
    "# Univariate Analysis<a id='d4ce7392-5427-4ca1-a387-65b550286fd5'>\n",
    "---"
   ]
  },
  {
   "cell_type": "code",
   "execution_count": null,
   "id": "aee58c4d",
   "metadata": {},
   "outputs": [],
   "source": [
    "show_univariate_analysis(df=df)"
   ]
  },
  {
   "cell_type": "markdown",
   "id": "970cc4a6",
   "metadata": {},
   "source": [
    "# Bivariate analysis<a id='be20bf74-0728-4527-842d-774534be6652'>\n",
    "---"
   ]
  },
  {
   "cell_type": "code",
   "execution_count": null,
   "id": "9b3264b3",
   "metadata": {},
   "outputs": [],
   "source": [
    "show_bivariate_analysis(df=df)"
   ]
  },
  {
   "cell_type": "markdown",
   "id": "77ae20b1",
   "metadata": {},
   "source": [
    "# Multivariate analysis<a id='2b893847-c50d-433b-b5ba-8c45b36761c8'>\n",
    "---"
   ]
  },
  {
   "cell_type": "code",
   "execution_count": null,
   "id": "50748461",
   "metadata": {},
   "outputs": [],
   "source": [
    "show_multivariate_analysis(df=df)"
   ]
  }
 ],
 "metadata": {},
 "nbformat": 4,
 "nbformat_minor": 5
}
