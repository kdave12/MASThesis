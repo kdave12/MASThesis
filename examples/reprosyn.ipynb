{
 "cells": [
  {
   "cell_type": "code",
   "execution_count": 36,
   "id": "dd4495c6",
   "metadata": {},
   "outputs": [],
   "source": [
    "# % pip install git+https://github.com/alan-turing-institute/reprosyn"
   ]
  },
  {
   "cell_type": "markdown",
   "id": "017d81e0-0aba-4a82-a8d4-8c0bbb247248",
   "metadata": {},
   "source": [
    "# Using Reprosyn as the generator\n",
    "\n",
    "This notebook provides an example of using `TAPAS's` generator class to generate census synthetic data using `reprosyn`.\n",
    "\n",
    "We assume that you have installed reprosyn into whichever python environment you are working in using `pip install git+https://github.com/alan-turing-institute/reprosyn`. (if not, run the cell at the top of the notebook)\n",
    "\n",
    "First we load the census dataset."
   ]
  },
  {
   "cell_type": "code",
   "execution_count": 37,
   "id": "bfc004c4-26e0-4ce6-a329-c47d41feaf4a",
   "metadata": {},
   "outputs": [],
   "source": [
    "import sys\n",
    "import json\n",
    "import pandas as pd"
   ]
  },
  {
   "cell_type": "code",
   "execution_count": 38,
   "id": "5c207a3a-1356-4757-ac26-052972eb0b39",
   "metadata": {},
   "outputs": [
    {
     "data": {
      "text/html": [
       "<div>\n",
       "<style scoped>\n",
       "    .dataframe tbody tr th:only-of-type {\n",
       "        vertical-align: middle;\n",
       "    }\n",
       "\n",
       "    .dataframe tbody tr th {\n",
       "        vertical-align: top;\n",
       "    }\n",
       "\n",
       "    .dataframe thead th {\n",
       "        text-align: right;\n",
       "    }\n",
       "</style>\n",
       "<table border=\"1\" class=\"dataframe\">\n",
       "  <thead>\n",
       "    <tr style=\"text-align: right;\">\n",
       "      <th></th>\n",
       "      <th>Region</th>\n",
       "      <th>Residence Type</th>\n",
       "      <th>Family Composition</th>\n",
       "      <th>Population Base</th>\n",
       "      <th>Sex</th>\n",
       "      <th>Age</th>\n",
       "      <th>Marital Status</th>\n",
       "      <th>Student</th>\n",
       "      <th>Country of Birth</th>\n",
       "      <th>Health</th>\n",
       "      <th>Ethnic Group</th>\n",
       "      <th>Religion</th>\n",
       "      <th>Economic Activity</th>\n",
       "      <th>Occupation</th>\n",
       "      <th>Industry</th>\n",
       "      <th>Hours worked per week</th>\n",
       "      <th>Approximated Social Grade</th>\n",
       "    </tr>\n",
       "  </thead>\n",
       "  <tbody>\n",
       "    <tr>\n",
       "      <th>0</th>\n",
       "      <td>E12000001</td>\n",
       "      <td>H</td>\n",
       "      <td>2</td>\n",
       "      <td>1</td>\n",
       "      <td>2</td>\n",
       "      <td>6</td>\n",
       "      <td>2</td>\n",
       "      <td>2</td>\n",
       "      <td>1</td>\n",
       "      <td>2</td>\n",
       "      <td>1</td>\n",
       "      <td>2</td>\n",
       "      <td>5</td>\n",
       "      <td>8</td>\n",
       "      <td>2</td>\n",
       "      <td>-9</td>\n",
       "      <td>4</td>\n",
       "    </tr>\n",
       "    <tr>\n",
       "      <th>1</th>\n",
       "      <td>E12000001</td>\n",
       "      <td>H</td>\n",
       "      <td>5</td>\n",
       "      <td>1</td>\n",
       "      <td>1</td>\n",
       "      <td>4</td>\n",
       "      <td>1</td>\n",
       "      <td>2</td>\n",
       "      <td>1</td>\n",
       "      <td>1</td>\n",
       "      <td>1</td>\n",
       "      <td>2</td>\n",
       "      <td>1</td>\n",
       "      <td>8</td>\n",
       "      <td>6</td>\n",
       "      <td>4</td>\n",
       "      <td>3</td>\n",
       "    </tr>\n",
       "    <tr>\n",
       "      <th>2</th>\n",
       "      <td>E12000001</td>\n",
       "      <td>H</td>\n",
       "      <td>3</td>\n",
       "      <td>1</td>\n",
       "      <td>2</td>\n",
       "      <td>4</td>\n",
       "      <td>1</td>\n",
       "      <td>2</td>\n",
       "      <td>1</td>\n",
       "      <td>1</td>\n",
       "      <td>1</td>\n",
       "      <td>1</td>\n",
       "      <td>1</td>\n",
       "      <td>6</td>\n",
       "      <td>11</td>\n",
       "      <td>3</td>\n",
       "      <td>4</td>\n",
       "    </tr>\n",
       "    <tr>\n",
       "      <th>3</th>\n",
       "      <td>E12000001</td>\n",
       "      <td>H</td>\n",
       "      <td>3</td>\n",
       "      <td>1</td>\n",
       "      <td>2</td>\n",
       "      <td>2</td>\n",
       "      <td>1</td>\n",
       "      <td>2</td>\n",
       "      <td>1</td>\n",
       "      <td>2</td>\n",
       "      <td>1</td>\n",
       "      <td>2</td>\n",
       "      <td>1</td>\n",
       "      <td>7</td>\n",
       "      <td>7</td>\n",
       "      <td>3</td>\n",
       "      <td>2</td>\n",
       "    </tr>\n",
       "    <tr>\n",
       "      <th>4</th>\n",
       "      <td>E12000001</td>\n",
       "      <td>H</td>\n",
       "      <td>3</td>\n",
       "      <td>1</td>\n",
       "      <td>1</td>\n",
       "      <td>5</td>\n",
       "      <td>4</td>\n",
       "      <td>2</td>\n",
       "      <td>1</td>\n",
       "      <td>1</td>\n",
       "      <td>1</td>\n",
       "      <td>2</td>\n",
       "      <td>1</td>\n",
       "      <td>1</td>\n",
       "      <td>4</td>\n",
       "      <td>3</td>\n",
       "      <td>2</td>\n",
       "    </tr>\n",
       "  </tbody>\n",
       "</table>\n",
       "</div>"
      ],
      "text/plain": [
       "      Region Residence Type  Family Composition  Population Base  Sex  Age  \\\n",
       "0  E12000001              H                   2                1    2    6   \n",
       "1  E12000001              H                   5                1    1    4   \n",
       "2  E12000001              H                   3                1    2    4   \n",
       "3  E12000001              H                   3                1    2    2   \n",
       "4  E12000001              H                   3                1    1    5   \n",
       "\n",
       "   Marital Status  Student  Country of Birth  Health  Ethnic Group  Religion  \\\n",
       "0               2        2                 1       2             1         2   \n",
       "1               1        2                 1       1             1         2   \n",
       "2               1        2                 1       1             1         1   \n",
       "3               1        2                 1       2             1         2   \n",
       "4               4        2                 1       1             1         2   \n",
       "\n",
       "   Economic Activity  Occupation  Industry  Hours worked per week  \\\n",
       "0                  5           8         2                     -9   \n",
       "1                  1           8         6                      4   \n",
       "2                  1           6        11                      3   \n",
       "3                  1           7         7                      3   \n",
       "4                  1           1         4                      3   \n",
       "\n",
       "   Approximated Social Grade  \n",
       "0                          4  \n",
       "1                          3  \n",
       "2                          4  \n",
       "3                          2  \n",
       "4                          2  "
      ]
     },
     "execution_count": 38,
     "metadata": {},
     "output_type": "execute_result"
    }
   ],
   "source": [
    "census = pd.read_csv('https://raw.githubusercontent.com/alan-turing-institute/reprosyn/main/src/reprosyn/datasets/2011-census-microdata/2011-census-microdata-small.csv')\n",
    "census = census.drop(columns = ['Person ID'])\n",
    "census.head()"
   ]
  },
  {
   "cell_type": "code",
   "execution_count": 39,
   "id": "5680127c",
   "metadata": {},
   "outputs": [
    {
     "data": {
      "text/plain": [
       "[{'name': 'Region',\n",
       "  'type': 'finite',\n",
       "  'representation': ['E12000001',\n",
       "   'E12000002',\n",
       "   'E12000003',\n",
       "   'E12000004',\n",
       "   'E12000005',\n",
       "   'E12000009',\n",
       "   'E12000006',\n",
       "   'E12000008',\n",
       "   'E12000007',\n",
       "   'W92000004']},\n",
       " {'name': 'Residence Type', 'type': 'finite', 'representation': ['H', 'C']},\n",
       " {'name': 'Family Composition',\n",
       "  'type': 'finite',\n",
       "  'representation': ['-9', '1', '2', '3', '4', '5', '6']},\n",
       " {'name': 'Population Base',\n",
       "  'type': 'finite',\n",
       "  'representation': ['1', '2', '3']},\n",
       " {'name': 'Sex', 'type': 'finite', 'representation': ['1', '2']},\n",
       " {'name': 'Age',\n",
       "  'type': 'finite',\n",
       "  'representation': ['1', '2', '3', '4', '5', '6', '7', '8']},\n",
       " {'name': 'Marital Status',\n",
       "  'type': 'finite',\n",
       "  'representation': ['1', '2', '3', '4', '5']},\n",
       " {'name': 'Student', 'type': 'finite', 'representation': ['1', '2']},\n",
       " {'name': 'Country of Birth',\n",
       "  'type': 'finite',\n",
       "  'representation': ['-9', '1', '2']},\n",
       " {'name': 'Health',\n",
       "  'type': 'finite',\n",
       "  'representation': ['-9', '1', '2', '3', '4', '5']},\n",
       " {'name': 'Ethnic Group',\n",
       "  'type': 'finite',\n",
       "  'representation': ['-9', '1', '2', '3', '4', '5']},\n",
       " {'name': 'Religion',\n",
       "  'type': 'finite',\n",
       "  'representation': ['-9', '1', '2', '3', '4', '5', '6', '7', '8', '9']},\n",
       " {'name': 'Economic Activity',\n",
       "  'type': 'finite',\n",
       "  'representation': ['-9', '1', '2', '3', '4', '5', '6', '7', '8', '9']},\n",
       " {'name': 'Occupation',\n",
       "  'type': 'finite',\n",
       "  'representation': ['-9', '1', '2', '3', '4', '5', '6', '7', '8', '9']},\n",
       " {'name': 'Industry',\n",
       "  'type': 'finite',\n",
       "  'representation': ['-9',\n",
       "   '1',\n",
       "   '2',\n",
       "   '3',\n",
       "   '4',\n",
       "   '5',\n",
       "   '6',\n",
       "   '7',\n",
       "   '8',\n",
       "   '9',\n",
       "   '10',\n",
       "   '11',\n",
       "   '12']},\n",
       " {'name': 'Hours worked per week',\n",
       "  'type': 'finite',\n",
       "  'representation': ['-9', '1', '2', '3', '4']},\n",
       " {'name': 'Approximated Social Grade',\n",
       "  'type': 'finite',\n",
       "  'representation': ['-9', '1', '2', '3', '4']}]"
      ]
     },
     "execution_count": 39,
     "metadata": {},
     "output_type": "execute_result"
    }
   ],
   "source": [
    "with open('data/2011 Census Microdata Teaching File.json', 'r') as f:\n",
    "    census_description = json.load(f)\n",
    "\n",
    "census_description"
   ]
  },
  {
   "cell_type": "markdown",
   "id": "a14153ba",
   "metadata": {},
   "source": [
    "Convert this dataset to a `tapas.TabularDataset`."
   ]
  },
  {
   "cell_type": "code",
   "execution_count": 40,
   "id": "850e4901",
   "metadata": {},
   "outputs": [],
   "source": [
    "from tapas.datasets import TabularDataset\n",
    "from tapas.datasets.data_description import DataDescription"
   ]
  },
  {
   "cell_type": "code",
   "execution_count": 41,
   "id": "0914d2c9",
   "metadata": {},
   "outputs": [],
   "source": [
    "tab_census = TabularDataset(census.sample(10000), description = DataDescription(census_description))"
   ]
  },
  {
   "cell_type": "markdown",
   "id": "07a76219",
   "metadata": {},
   "source": [
    "Next, instantiate the generator."
   ]
  },
  {
   "cell_type": "code",
   "execution_count": 42,
   "id": "c1dcae3e",
   "metadata": {},
   "outputs": [],
   "source": [
    "from tapas.generators import ReprosynGenerator"
   ]
  },
  {
   "cell_type": "code",
   "execution_count": 43,
   "id": "8c8e3d3e",
   "metadata": {},
   "outputs": [
    {
     "ename": "ModuleNotFoundError",
     "evalue": "No module named 'click'",
     "output_type": "error",
     "traceback": [
      "\u001b[0;31m---------------------------------------------------------------------------\u001b[0m",
      "\u001b[0;31mModuleNotFoundError\u001b[0m                       Traceback (most recent call last)",
      "Cell \u001b[0;32mIn[43], line 1\u001b[0m\n\u001b[0;32m----> 1\u001b[0m \u001b[38;5;28;01mfrom\u001b[39;00m \u001b[38;5;21;01mreprosyn\u001b[39;00m\u001b[38;5;21;01m.\u001b[39;00m\u001b[38;5;21;01mmethods\u001b[39;00m \u001b[38;5;28;01mimport\u001b[39;00m MST\n",
      "File \u001b[0;32m~/Library/Caches/pypoetry/virtualenvs/tapas-GDPEd_BJ-py3.9/lib/python3.9/site-packages/reprosyn/methods/__init__.py:9\u001b[0m\n\u001b[1;32m      5\u001b[0m warnings\u001b[38;5;241m.\u001b[39mfilterwarnings(action\u001b[38;5;241m=\u001b[39m\u001b[38;5;124m\"\u001b[39m\u001b[38;5;124mignore\u001b[39m\u001b[38;5;124m\"\u001b[39m, category\u001b[38;5;241m=\u001b[39m\u001b[38;5;167;01mUserWarning\u001b[39;00m)\n\u001b[1;32m      7\u001b[0m \u001b[38;5;66;03m# METHODS\u001b[39;00m\n\u001b[1;32m      8\u001b[0m \u001b[38;5;66;03m# ---------------------\u001b[39;00m\n\u001b[0;32m----> 9\u001b[0m \u001b[38;5;28;01mfrom\u001b[39;00m \u001b[38;5;21;01mreprosyn\u001b[39;00m\u001b[38;5;21;01m.\u001b[39;00m\u001b[38;5;21;01mmethods\u001b[39;00m\u001b[38;5;21;01m.\u001b[39;00m\u001b[38;5;21;01mipf\u001b[39;00m\u001b[38;5;21;01m.\u001b[39;00m\u001b[38;5;21;01mipf\u001b[39;00m \u001b[38;5;28;01mimport\u001b[39;00m IPF\n\u001b[1;32m     10\u001b[0m \u001b[38;5;28;01mfrom\u001b[39;00m \u001b[38;5;21;01mreprosyn\u001b[39;00m\u001b[38;5;21;01m.\u001b[39;00m\u001b[38;5;21;01mmethods\u001b[39;00m\u001b[38;5;21;01m.\u001b[39;00m\u001b[38;5;21;01mmbi\u001b[39;00m\u001b[38;5;21;01m.\u001b[39;00m\u001b[38;5;21;01mmst\u001b[39;00m \u001b[38;5;28;01mimport\u001b[39;00m MST\n\u001b[1;32m     11\u001b[0m \u001b[38;5;28;01mfrom\u001b[39;00m \u001b[38;5;21;01mreprosyn\u001b[39;00m\u001b[38;5;21;01m.\u001b[39;00m\u001b[38;5;21;01mmethods\u001b[39;00m\u001b[38;5;21;01m.\u001b[39;00m\u001b[38;5;21;01mmbi\u001b[39;00m\u001b[38;5;21;01m.\u001b[39;00m\u001b[38;5;21;01mprivbayes\u001b[39;00m \u001b[38;5;28;01mimport\u001b[39;00m PRIVBAYES\n",
      "File \u001b[0;32m~/Library/Caches/pypoetry/virtualenvs/tapas-GDPEd_BJ-py3.9/lib/python3.9/site-packages/reprosyn/methods/ipf/ipf.py:8\u001b[0m\n\u001b[1;32m      5\u001b[0m \u001b[38;5;28;01mimport\u001b[39;00m \u001b[38;5;21;01mpandas\u001b[39;00m \u001b[38;5;28;01mas\u001b[39;00m \u001b[38;5;21;01mpd\u001b[39;00m\n\u001b[1;32m      6\u001b[0m \u001b[38;5;28;01mfrom\u001b[39;00m \u001b[38;5;21;01mtqdm\u001b[39;00m \u001b[38;5;28;01mimport\u001b[39;00m tqdm\n\u001b[0;32m----> 8\u001b[0m \u001b[38;5;28;01mfrom\u001b[39;00m \u001b[38;5;21;01mreprosyn\u001b[39;00m\u001b[38;5;21;01m.\u001b[39;00m\u001b[38;5;21;01mgenerator\u001b[39;00m \u001b[38;5;28;01mimport\u001b[39;00m PipelineBase, encode_ordinal, decode_ordinal\n\u001b[1;32m     11\u001b[0m \u001b[38;5;28;01mdef\u001b[39;00m \u001b[38;5;21mget_count_matrix\u001b[39m(X, metadata):\n\u001b[1;32m     12\u001b[0m     \u001b[38;5;124;03m\"\"\"Returns the counts of each feature category.\u001b[39;00m\n\u001b[1;32m     13\u001b[0m \n\u001b[1;32m     14\u001b[0m \u001b[38;5;124;03m    Parameters\u001b[39;00m\n\u001b[0;32m   (...)\u001b[0m\n\u001b[1;32m     24\u001b[0m \u001b[38;5;124;03m        a numpy array with ndims = nfeatures and shape determined by the size of feature categories, taken from metadata e.g. (ncatg1, ncatg2,...)\u001b[39;00m\n\u001b[1;32m     25\u001b[0m \u001b[38;5;124;03m    \"\"\"\u001b[39;00m\n",
      "File \u001b[0;32m~/Library/Caches/pypoetry/virtualenvs/tapas-GDPEd_BJ-py3.9/lib/python3.9/site-packages/reprosyn/generator.py:12\u001b[0m\n\u001b[1;32m      9\u001b[0m \u001b[38;5;28;01mimport\u001b[39;00m \u001b[38;5;21;01mwarnings\u001b[39;00m\n\u001b[1;32m     10\u001b[0m \u001b[38;5;28;01mfrom\u001b[39;00m \u001b[38;5;21;01mos\u001b[39;00m \u001b[38;5;28;01mimport\u001b[39;00m path\n\u001b[0;32m---> 12\u001b[0m \u001b[38;5;28;01mimport\u001b[39;00m \u001b[38;5;21;01mclick\u001b[39;00m\n\u001b[1;32m     14\u001b[0m \u001b[38;5;28;01mfrom\u001b[39;00m \u001b[38;5;21;01mreprosyn\u001b[39;00m\u001b[38;5;21;01m.\u001b[39;00m\u001b[38;5;21;01mdataset\u001b[39;00m \u001b[38;5;28;01mimport\u001b[39;00m Dataset\n\u001b[1;32m     16\u001b[0m \u001b[38;5;28;01mimport\u001b[39;00m \u001b[38;5;21;01mpandas\u001b[39;00m \u001b[38;5;28;01mas\u001b[39;00m \u001b[38;5;21;01mpd\u001b[39;00m\n",
      "\u001b[0;31mModuleNotFoundError\u001b[0m: No module named 'click'"
     ]
    }
   ],
   "source": [
    "from reprosyn.methods import MST"
   ]
  },
  {
   "cell_type": "code",
   "execution_count": 44,
   "id": "0c40a261-82b6-415d-a1a6-a4d6693774a9",
   "metadata": {},
   "outputs": [
    {
     "ename": "NameError",
     "evalue": "name 'MST' is not defined",
     "output_type": "error",
     "traceback": [
      "\u001b[0;31m---------------------------------------------------------------------------\u001b[0m",
      "\u001b[0;31mNameError\u001b[0m                                 Traceback (most recent call last)",
      "Cell \u001b[0;32mIn[44], line 1\u001b[0m\n\u001b[0;32m----> 1\u001b[0m gen \u001b[38;5;241m=\u001b[39m ReprosynGenerator(\u001b[43mMST\u001b[49m, label\u001b[38;5;241m=\u001b[39m\u001b[38;5;124m\"\u001b[39m\u001b[38;5;124mMST\u001b[39m\u001b[38;5;124m\"\u001b[39m)\n",
      "\u001b[0;31mNameError\u001b[0m: name 'MST' is not defined"
     ]
    }
   ],
   "source": [
    "gen = ReprosynGenerator(MST, label=\"MST\")"
   ]
  },
  {
   "cell_type": "code",
   "execution_count": 45,
   "id": "93c7b7a8",
   "metadata": {},
   "outputs": [
    {
     "ename": "NameError",
     "evalue": "name 'gen' is not defined",
     "output_type": "error",
     "traceback": [
      "\u001b[0;31m---------------------------------------------------------------------------\u001b[0m",
      "\u001b[0;31mNameError\u001b[0m                                 Traceback (most recent call last)",
      "Cell \u001b[0;32mIn[45], line 1\u001b[0m\n\u001b[0;32m----> 1\u001b[0m \u001b[43mgen\u001b[49m\u001b[38;5;241m.\u001b[39mfit(tab_census)\n",
      "\u001b[0;31mNameError\u001b[0m: name 'gen' is not defined"
     ]
    }
   ],
   "source": [
    "gen.fit(tab_census)"
   ]
  },
  {
   "cell_type": "code",
   "execution_count": 46,
   "id": "9ac55db0",
   "metadata": {},
   "outputs": [
    {
     "ename": "NameError",
     "evalue": "name 'gen' is not defined",
     "output_type": "error",
     "traceback": [
      "\u001b[0;31m---------------------------------------------------------------------------\u001b[0m",
      "\u001b[0;31mNameError\u001b[0m                                 Traceback (most recent call last)",
      "Cell \u001b[0;32mIn[46], line 1\u001b[0m\n\u001b[0;32m----> 1\u001b[0m tab_data \u001b[38;5;241m=\u001b[39m \u001b[43mgen\u001b[49m\u001b[38;5;241m.\u001b[39mgenerate(\u001b[38;5;241m10\u001b[39m)\n\u001b[1;32m      2\u001b[0m tab_data\u001b[38;5;241m.\u001b[39mdata\n",
      "\u001b[0;31mNameError\u001b[0m: name 'gen' is not defined"
     ]
    }
   ],
   "source": [
    "tab_data = gen.generate(10)\n",
    "tab_data.data"
   ]
  },
  {
   "cell_type": "code",
   "execution_count": 47,
   "id": "91c77025-11f3-4e45-889a-7211cdc4f6c6",
   "metadata": {},
   "outputs": [
    {
     "ename": "NameError",
     "evalue": "name 'MST' is not defined",
     "output_type": "error",
     "traceback": [
      "\u001b[0;31m---------------------------------------------------------------------------\u001b[0m",
      "\u001b[0;31mNameError\u001b[0m                                 Traceback (most recent call last)",
      "Cell \u001b[0;32mIn[47], line 5\u001b[0m\n\u001b[1;32m      3\u001b[0m epsilon \u001b[38;5;241m=\u001b[39m [\u001b[38;5;241m1\u001b[39m,\u001b[38;5;241m10\u001b[39m,\u001b[38;5;241m100\u001b[39m]\n\u001b[1;32m      4\u001b[0m \u001b[38;5;28;01mfor\u001b[39;00m e \u001b[38;5;129;01min\u001b[39;00m epsilon:\n\u001b[0;32m----> 5\u001b[0m     gen \u001b[38;5;241m=\u001b[39m ReprosynGenerator(\u001b[43mMST\u001b[49m, epsilon \u001b[38;5;241m=\u001b[39m e)\n\u001b[1;32m      6\u001b[0m     gen\u001b[38;5;241m.\u001b[39mfit(TabularDataset(census, description \u001b[38;5;241m=\u001b[39m DataDescription(census_description)))\n\u001b[1;32m      7\u001b[0m     tab_data \u001b[38;5;241m=\u001b[39m gen\u001b[38;5;241m.\u001b[39mgenerate(samples)\n",
      "\u001b[0;31mNameError\u001b[0m: name 'MST' is not defined"
     ]
    }
   ],
   "source": [
    "datasets = [] \n",
    "samples = 10\n",
    "epsilon = [1,10,100]\n",
    "for e in epsilon:\n",
    "    gen = ReprosynGenerator(MST, epsilon = e)\n",
    "    gen.fit(TabularDataset(census, description = DataDescription(census_description)))\n",
    "    tab_data = gen.generate(samples)\n",
    "    datasets.append([gen, tab_data.data])"
   ]
  },
  {
   "cell_type": "code",
   "execution_count": 48,
   "id": "2063412a-8c02-4dcf-9439-855580935244",
   "metadata": {},
   "outputs": [
    {
     "data": {
      "text/plain": [
       "[]"
      ]
     },
     "execution_count": 48,
     "metadata": {},
     "output_type": "execute_result"
    }
   ],
   "source": [
    "datasets"
   ]
  }
 ],
 "metadata": {
  "kernelspec": {
   "display_name": "Python 3 (ipykernel)",
   "language": "python",
   "name": "python3"
  },
  "language_info": {
   "codemirror_mode": {
    "name": "ipython",
    "version": 3
   },
   "file_extension": ".py",
   "mimetype": "text/x-python",
   "name": "python",
   "nbconvert_exporter": "python",
   "pygments_lexer": "ipython3",
   "version": "3.9.6"
  }
 },
 "nbformat": 4,
 "nbformat_minor": 5
}
